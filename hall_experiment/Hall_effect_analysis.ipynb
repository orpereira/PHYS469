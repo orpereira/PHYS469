{
 "cells": [
  {
   "cell_type": "code",
   "execution_count": 1,
   "metadata": {},
   "outputs": [],
   "source": [
    "import numpy as np\n",
    "import matplotlib.pyplot as plt"
   ]
  },
  {
   "cell_type": "code",
   "execution_count": null,
   "metadata": {},
   "outputs": [],
   "source": [
    "def plot_voltage_temp(dataset, title = ''):\n",
    "    fig, axs = plt.subplots(4, 2, figsize=(8, 8), dpi=200)\n",
    "    fig.suptitle(title)\n",
    "\n",
    "    for i in range(1, 8):\n",
    "        ax = axs[(i-1)//2, (i-1)%2]\n",
    "        ax.scatter(1/dataset['T'], dataset[f'v{i}'], s=5)\n",
    "        ax.set_title(f'v{i}')\n",
    "\n",
    "    fig.supxlabel('T (1/K)')\n",
    "    fig.supylabel('Voltage (V)')\n",
    "    plt.tight_layout()\n",
    "    plt.show() "
   ]
  }
 ],
 "metadata": {
  "kernelspec": {
   "display_name": "base",
   "language": "python",
   "name": "python3"
  },
  "language_info": {
   "codemirror_mode": {
    "name": "ipython",
    "version": 3
   },
   "file_extension": ".py",
   "mimetype": "text/x-python",
   "name": "python",
   "nbconvert_exporter": "python",
   "pygments_lexer": "ipython3",
   "version": "3.9.13"
  }
 },
 "nbformat": 4,
 "nbformat_minor": 2
}
