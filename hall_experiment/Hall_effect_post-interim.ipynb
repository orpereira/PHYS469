{
 "cells": [
  {
   "cell_type": "code",
   "execution_count": 3,
   "metadata": {},
   "outputs": [],
   "source": [
    "import numpy as np\n",
    "import matplotlib.pyplot as plt\n",
    "import pandas as pd\n",
    "from scipy.interpolate import interp1d\n",
    "import scipy.optimize as opt\n",
    "import os\n",
    "import importlib\n",
    "\n",
    "user_path = '/Users/oliviapereira/Desktop' if (os.path.isdir('/Users/oliviapereira')) else '/Users/audrey/Documents/PHYS469'"
   ]
  },
  {
   "cell_type": "code",
   "execution_count": 4,
   "metadata": {},
   "outputs": [],
   "source": [
    "# constants\n",
    "csts = dict()\n",
    "csts['k'] = 1.380649e-23  # J/K\n",
    "csts['A'] = 3.15*0.92*1e-6  # m\n",
    "csts['L'] = 10.00e-3  # m"
   ]
  },
  {
   "cell_type": "markdown",
   "metadata": {},
   "source": [
    "# Interpolating over calibration data"
   ]
  },
  {
   "cell_type": "code",
   "execution_count": 5,
   "metadata": {},
   "outputs": [],
   "source": [
    "def v_to_mag(voltage):\n",
    "    calib_raw = pd.read_excel('magnet_calibration.xlsx')\n",
    "    voltage = calib_raw['Hall Probe Reading'].values[2:]\n",
    "    field = calib_raw['Magnetic Flux Reading'].values[2:]\n",
    "\n",
    "    func = interp1d(voltage, field)\n",
    "    field_interp = func(voltage)\n",
    "    return field_interp"
   ]
  },
  {
   "cell_type": "markdown",
   "metadata": {},
   "source": [
    "## Interpolating over time-series data (same time axis)"
   ]
  },
  {
   "cell_type": "code",
   "execution_count": 7,
   "metadata": {},
   "outputs": [],
   "source": [
    "# defining the common temperature array we want to interpolate\n",
    "T_common = np.linspace(-100, 80, 1000) # Celcius"
   ]
  },
  {
   "cell_type": "code",
   "execution_count": 8,
   "metadata": {},
   "outputs": [],
   "source": [
    "def interp_data(dataset, new_file, T_common):\n",
    "    interp_dataset = dict()\n",
    "\n",
    "    # interpolating over time\n",
    "    common_time = dataset[\"t9\"]  # using time of temperature readings\n",
    "\n",
    "    interp_dataset['t'] = common_time\n",
    "\n",
    "    for i in range(1, 8):\n",
    "        interp_data = interp1d(dataset[f't{i}'], dataset[f'v{i}'], bounds_error=False, fill_value=\"extrapolate\")\n",
    "        interp_dataset[f'v{i}'] = interp_data(common_time)\n",
    "\n",
    "    # interpolating over temperature\n",
    "    for i in range(1, 8):\n",
    "        interp_data = interp1d(T_common, dataset[f'v{i}'], bounds_error=False, fill_value=\"extrapolate\")\n",
    "        interp_dataset[f'v{i}'] = interp_data(T_common)\n",
    "\n",
    "    interp_dataset['T_original'] = dataset['T']\n",
    "    interp_dataset['T_common'] = T_common\n",
    "\n",
    "    np.savez(f'interpolated_data_files/{new_file}_copy.npz', interp_dataset)\n",
    "    return interp_dataset"
   ]
  },
  {
   "cell_type": "code",
   "execution_count": null,
   "metadata": {},
   "outputs": [],
   "source": []
  }
 ],
 "metadata": {
  "kernelspec": {
   "display_name": "base",
   "language": "python",
   "name": "python3"
  },
  "language_info": {
   "codemirror_mode": {
    "name": "ipython",
    "version": 3
   },
   "file_extension": ".py",
   "mimetype": "text/x-python",
   "name": "python",
   "nbconvert_exporter": "python",
   "pygments_lexer": "ipython3",
   "version": "3.9.13"
  }
 },
 "nbformat": 4,
 "nbformat_minor": 2
}
